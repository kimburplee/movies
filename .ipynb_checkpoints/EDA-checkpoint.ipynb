{
 "cells": [
  {
   "cell_type": "code",
   "execution_count": 8,
   "metadata": {},
   "outputs": [
    {
     "ename": "ModuleNotFoundError",
     "evalue": "No module named 'xgboost'",
     "output_type": "error",
     "traceback": [
      "\u001b[0;31m---------------------------------------------------------------------------\u001b[0m",
      "\u001b[0;31mModuleNotFoundError\u001b[0m                       Traceback (most recent call last)",
      "\u001b[0;32m<ipython-input-8-122edad7dd1a>\u001b[0m in \u001b[0;36m<module>\u001b[0;34m\u001b[0m\n\u001b[1;32m     18\u001b[0m \u001b[0;32mfrom\u001b[0m \u001b[0msklearn\u001b[0m\u001b[0;34m.\u001b[0m\u001b[0mdummy\u001b[0m \u001b[0;32mimport\u001b[0m \u001b[0mDummyClassifier\u001b[0m\u001b[0;34m,\u001b[0m \u001b[0mDummyRegressor\u001b[0m\u001b[0;34m\u001b[0m\u001b[0;34m\u001b[0m\u001b[0m\n\u001b[1;32m     19\u001b[0m \u001b[0;32mfrom\u001b[0m \u001b[0msklearn\u001b[0m\u001b[0;34m.\u001b[0m\u001b[0mmodel_selection\u001b[0m \u001b[0;32mimport\u001b[0m \u001b[0mtrain_test_split\u001b[0m\u001b[0;34m\u001b[0m\u001b[0;34m\u001b[0m\u001b[0m\n\u001b[0;32m---> 20\u001b[0;31m \u001b[0;32mfrom\u001b[0m \u001b[0mxgboost\u001b[0m \u001b[0;32mimport\u001b[0m \u001b[0mXGBClassifier\u001b[0m\u001b[0;34m,\u001b[0m \u001b[0mXGBRegressor\u001b[0m\u001b[0;34m\u001b[0m\u001b[0;34m\u001b[0m\u001b[0m\n\u001b[0m\u001b[1;32m     21\u001b[0m \u001b[0;32mfrom\u001b[0m \u001b[0mwordcloud\u001b[0m \u001b[0;32mimport\u001b[0m \u001b[0mWordCloud\u001b[0m\u001b[0;34m,\u001b[0m \u001b[0mSTOPWORDS\u001b[0m\u001b[0;34m\u001b[0m\u001b[0;34m\u001b[0m\u001b[0m\n\u001b[1;32m     22\u001b[0m \u001b[0;32mimport\u001b[0m \u001b[0mplotly\u001b[0m\u001b[0;34m\u001b[0m\u001b[0;34m\u001b[0m\u001b[0m\n",
      "\u001b[0;31mModuleNotFoundError\u001b[0m: No module named 'xgboost'"
     ]
    }
   ],
   "source": [
    "%matplotlib inline\n",
    "from IPython.display import Image, HTML\n",
    "\n",
    "# data provided in json file \n",
    "import json \n",
    "\n",
    "import datetime\n",
    "\n",
    "# process trees of Python abstract syntax grammar\n",
    "import ast\n",
    "\n",
    "import pandas as pd\n",
    "import matplotlib.pyplot as plt\n",
    "import seaborn as sns\n",
    "import numpy as np\n",
    "from scipy import stats\n",
    "from sklearn.ensemble import GradientBoostingClassifier, GradientBoostingRegressor\n",
    "from sklearn.dummy import DummyClassifier, DummyRegressor\n",
    "from sklearn.model_selection import train_test_split\n",
    "from xgboost import XGBClassifier, XGBRegressor\n",
    "from wordcloud import WordCloud, STOPWORDS\n",
    "import plotly\n",
    "import plotly.offline as py\n",
    "py.init_notebook_mode(connected=True)\n",
    "import plotly.graph_objs as go\n",
    "import plotly.tools as tls\n",
    "import warnings\n",
    "warnings.filterwarnings('ignore')\n",
    "plotly.tools.set_credentials_file(username='rounakbanik', api_key='xTLaHBy9MVv5szF4Pwan')\n",
    "\n",
    "sns.set_style('whitegrid')\n",
    "sns.set(font_scale=1.25)\n",
    "pd.set_option('display.max_colwidth', 50)"
   ]
  },
  {
   "cell_type": "code",
   "execution_count": 9,
   "metadata": {},
   "outputs": [
    {
     "data": {
      "text/html": [
       "<div>\n",
       "<style scoped>\n",
       "    .dataframe tbody tr th:only-of-type {\n",
       "        vertical-align: middle;\n",
       "    }\n",
       "\n",
       "    .dataframe tbody tr th {\n",
       "        vertical-align: top;\n",
       "    }\n",
       "\n",
       "    .dataframe thead th {\n",
       "        text-align: right;\n",
       "    }\n",
       "</style>\n",
       "<table border=\"1\" class=\"dataframe\">\n",
       "  <thead>\n",
       "    <tr style=\"text-align: right;\">\n",
       "      <th></th>\n",
       "      <th>0</th>\n",
       "      <th>1</th>\n",
       "      <th>2</th>\n",
       "      <th>3</th>\n",
       "      <th>4</th>\n",
       "    </tr>\n",
       "  </thead>\n",
       "  <tbody>\n",
       "    <tr>\n",
       "      <th>id</th>\n",
       "      <td>862</td>\n",
       "      <td>8844</td>\n",
       "      <td>15602</td>\n",
       "      <td>31357</td>\n",
       "      <td>11862</td>\n",
       "    </tr>\n",
       "    <tr>\n",
       "      <th>title</th>\n",
       "      <td>Toy Story</td>\n",
       "      <td>Jumanji</td>\n",
       "      <td>Grumpier Old Men</td>\n",
       "      <td>Waiting to Exhale</td>\n",
       "      <td>Father of the Bride Part II</td>\n",
       "    </tr>\n",
       "    <tr>\n",
       "      <th>tagline</th>\n",
       "      <td>NaN</td>\n",
       "      <td>Roll the dice and unleash the excitement!</td>\n",
       "      <td>Still Yelling. Still Fighting. Still Ready for...</td>\n",
       "      <td>Friends are the people who let you be yourself...</td>\n",
       "      <td>Just When His World Is Back To Normal... He's ...</td>\n",
       "    </tr>\n",
       "    <tr>\n",
       "      <th>description</th>\n",
       "      <td>Led by Woody, Andy's toys live happily in his ...</td>\n",
       "      <td>When siblings Judy and Peter discover an encha...</td>\n",
       "      <td>A family wedding reignites the ancient feud be...</td>\n",
       "      <td>Cheated on, mistreated and stepped on, the wom...</td>\n",
       "      <td>Just when George Banks has recovered from his ...</td>\n",
       "    </tr>\n",
       "    <tr>\n",
       "      <th>genres</th>\n",
       "      <td>animation, comedy, family</td>\n",
       "      <td>adventure, fantasy, family</td>\n",
       "      <td>romance, comedy</td>\n",
       "      <td>comedy, drama, romance</td>\n",
       "      <td>comedy</td>\n",
       "    </tr>\n",
       "    <tr>\n",
       "      <th>keywords</th>\n",
       "      <td>jealousy, toy, boy, friendship, friends, rival...</td>\n",
       "      <td>board game, disappearance, based on children's...</td>\n",
       "      <td>fishing, best friend, duringcreditsstinger, ol...</td>\n",
       "      <td>based on novel, interracial relationship, sing...</td>\n",
       "      <td>baby, midlife crisis, confidence, aging, daugh...</td>\n",
       "    </tr>\n",
       "    <tr>\n",
       "      <th>date</th>\n",
       "      <td>1995-10-30</td>\n",
       "      <td>1995-12-15</td>\n",
       "      <td>1995-12-22</td>\n",
       "      <td>1995-12-22</td>\n",
       "      <td>1995-02-10</td>\n",
       "    </tr>\n",
       "    <tr>\n",
       "      <th>collection</th>\n",
       "      <td>Toy Story Collection</td>\n",
       "      <td>NaN</td>\n",
       "      <td>Grumpy Old Men Collection</td>\n",
       "      <td>NaN</td>\n",
       "      <td>Father of the Bride Collection</td>\n",
       "    </tr>\n",
       "    <tr>\n",
       "      <th>runtime</th>\n",
       "      <td>81</td>\n",
       "      <td>104</td>\n",
       "      <td>101</td>\n",
       "      <td>127</td>\n",
       "      <td>106</td>\n",
       "    </tr>\n",
       "    <tr>\n",
       "      <th>revenue</th>\n",
       "      <td>3.73554e+08</td>\n",
       "      <td>2.62797e+08</td>\n",
       "      <td>0</td>\n",
       "      <td>8.14522e+07</td>\n",
       "      <td>7.65789e+07</td>\n",
       "    </tr>\n",
       "    <tr>\n",
       "      <th>budget</th>\n",
       "      <td>30000000</td>\n",
       "      <td>65000000</td>\n",
       "      <td>0</td>\n",
       "      <td>16000000</td>\n",
       "      <td>0</td>\n",
       "    </tr>\n",
       "    <tr>\n",
       "      <th>director</th>\n",
       "      <td>John Lasseter</td>\n",
       "      <td>Joe Johnston</td>\n",
       "      <td>Howard Deutch</td>\n",
       "      <td>Forest Whitaker</td>\n",
       "      <td>Charles Shyer</td>\n",
       "    </tr>\n",
       "    <tr>\n",
       "      <th>cast</th>\n",
       "      <td>Tom Hanks, Tim Allen, Don Rickles, Jim Varney,...</td>\n",
       "      <td>Robin Williams, Jonathan Hyde, Kirsten Dunst, ...</td>\n",
       "      <td>Walter Matthau, Jack Lemmon, Ann-Margret, Soph...</td>\n",
       "      <td>Whitney Houston, Angela Bassett, Loretta Devin...</td>\n",
       "      <td>Steve Martin, Diane Keaton, Martin Short, Kimb...</td>\n",
       "    </tr>\n",
       "    <tr>\n",
       "      <th>production_companies</th>\n",
       "      <td>Pixar Animation Studios</td>\n",
       "      <td>TriStar Pictures, Teitler Film, Interscope Com...</td>\n",
       "      <td>Warner Bros., Lancaster Gate</td>\n",
       "      <td>Twentieth Century Fox Film Corporation</td>\n",
       "      <td>Sandollar Productions, Touchstone Pictures</td>\n",
       "    </tr>\n",
       "    <tr>\n",
       "      <th>production_countries</th>\n",
       "      <td>United States of America</td>\n",
       "      <td>United States of America</td>\n",
       "      <td>United States of America</td>\n",
       "      <td>United States of America</td>\n",
       "      <td>United States of America</td>\n",
       "    </tr>\n",
       "    <tr>\n",
       "      <th>popularity</th>\n",
       "      <td>21.9469</td>\n",
       "      <td>17.0155</td>\n",
       "      <td>11.7129</td>\n",
       "      <td>3.85949</td>\n",
       "      <td>8.38752</td>\n",
       "    </tr>\n",
       "    <tr>\n",
       "      <th>average_vote</th>\n",
       "      <td>7.7</td>\n",
       "      <td>6.9</td>\n",
       "      <td>6.5</td>\n",
       "      <td>6.1</td>\n",
       "      <td>5.7</td>\n",
       "    </tr>\n",
       "    <tr>\n",
       "      <th>num_votes</th>\n",
       "      <td>5415</td>\n",
       "      <td>2413</td>\n",
       "      <td>92</td>\n",
       "      <td>34</td>\n",
       "      <td>173</td>\n",
       "    </tr>\n",
       "    <tr>\n",
       "      <th>language</th>\n",
       "      <td>en</td>\n",
       "      <td>en</td>\n",
       "      <td>en</td>\n",
       "      <td>en</td>\n",
       "      <td>en</td>\n",
       "    </tr>\n",
       "    <tr>\n",
       "      <th>imdb_id</th>\n",
       "      <td>tt0114709</td>\n",
       "      <td>tt0113497</td>\n",
       "      <td>tt0113228</td>\n",
       "      <td>tt0114885</td>\n",
       "      <td>tt0113041</td>\n",
       "    </tr>\n",
       "    <tr>\n",
       "      <th>poster_url</th>\n",
       "      <td>/rhIRbceoE9lR4veEXuwCC2wARtG.jpg</td>\n",
       "      <td>/vzmL6fP7aPKNKPRTFnZmiUfciyV.jpg</td>\n",
       "      <td>/6ksm1sjKMFLbO7UY2i6G1ju9SML.jpg</td>\n",
       "      <td>/16XOMpEaLWkrcPqSQqhTmeJuqQl.jpg</td>\n",
       "      <td>/e64sOI48hQXyru7naBFyssKFxVd.jpg</td>\n",
       "    </tr>\n",
       "  </tbody>\n",
       "</table>\n",
       "</div>"
      ],
      "text/plain": [
       "                                                                      0  \\\n",
       "id                                                                  862   \n",
       "title                                                         Toy Story   \n",
       "tagline                                                             NaN   \n",
       "description           Led by Woody, Andy's toys live happily in his ...   \n",
       "genres                                        animation, comedy, family   \n",
       "keywords              jealousy, toy, boy, friendship, friends, rival...   \n",
       "date                                                         1995-10-30   \n",
       "collection                                         Toy Story Collection   \n",
       "runtime                                                              81   \n",
       "revenue                                                     3.73554e+08   \n",
       "budget                                                         30000000   \n",
       "director                                                  John Lasseter   \n",
       "cast                  Tom Hanks, Tim Allen, Don Rickles, Jim Varney,...   \n",
       "production_companies                            Pixar Animation Studios   \n",
       "production_countries                           United States of America   \n",
       "popularity                                                      21.9469   \n",
       "average_vote                                                        7.7   \n",
       "num_votes                                                          5415   \n",
       "language                                                             en   \n",
       "imdb_id                                                       tt0114709   \n",
       "poster_url                             /rhIRbceoE9lR4veEXuwCC2wARtG.jpg   \n",
       "\n",
       "                                                                      1  \\\n",
       "id                                                                 8844   \n",
       "title                                                           Jumanji   \n",
       "tagline                       Roll the dice and unleash the excitement!   \n",
       "description           When siblings Judy and Peter discover an encha...   \n",
       "genres                                       adventure, fantasy, family   \n",
       "keywords              board game, disappearance, based on children's...   \n",
       "date                                                         1995-12-15   \n",
       "collection                                                          NaN   \n",
       "runtime                                                             104   \n",
       "revenue                                                     2.62797e+08   \n",
       "budget                                                         65000000   \n",
       "director                                                   Joe Johnston   \n",
       "cast                  Robin Williams, Jonathan Hyde, Kirsten Dunst, ...   \n",
       "production_companies  TriStar Pictures, Teitler Film, Interscope Com...   \n",
       "production_countries                           United States of America   \n",
       "popularity                                                      17.0155   \n",
       "average_vote                                                        6.9   \n",
       "num_votes                                                          2413   \n",
       "language                                                             en   \n",
       "imdb_id                                                       tt0113497   \n",
       "poster_url                             /vzmL6fP7aPKNKPRTFnZmiUfciyV.jpg   \n",
       "\n",
       "                                                                      2  \\\n",
       "id                                                                15602   \n",
       "title                                                  Grumpier Old Men   \n",
       "tagline               Still Yelling. Still Fighting. Still Ready for...   \n",
       "description           A family wedding reignites the ancient feud be...   \n",
       "genres                                                  romance, comedy   \n",
       "keywords              fishing, best friend, duringcreditsstinger, ol...   \n",
       "date                                                         1995-12-22   \n",
       "collection                                    Grumpy Old Men Collection   \n",
       "runtime                                                             101   \n",
       "revenue                                                               0   \n",
       "budget                                                                0   \n",
       "director                                                  Howard Deutch   \n",
       "cast                  Walter Matthau, Jack Lemmon, Ann-Margret, Soph...   \n",
       "production_companies                       Warner Bros., Lancaster Gate   \n",
       "production_countries                           United States of America   \n",
       "popularity                                                      11.7129   \n",
       "average_vote                                                        6.5   \n",
       "num_votes                                                            92   \n",
       "language                                                             en   \n",
       "imdb_id                                                       tt0113228   \n",
       "poster_url                             /6ksm1sjKMFLbO7UY2i6G1ju9SML.jpg   \n",
       "\n",
       "                                                                      3  \\\n",
       "id                                                                31357   \n",
       "title                                                 Waiting to Exhale   \n",
       "tagline               Friends are the people who let you be yourself...   \n",
       "description           Cheated on, mistreated and stepped on, the wom...   \n",
       "genres                                           comedy, drama, romance   \n",
       "keywords              based on novel, interracial relationship, sing...   \n",
       "date                                                         1995-12-22   \n",
       "collection                                                          NaN   \n",
       "runtime                                                             127   \n",
       "revenue                                                     8.14522e+07   \n",
       "budget                                                         16000000   \n",
       "director                                                Forest Whitaker   \n",
       "cast                  Whitney Houston, Angela Bassett, Loretta Devin...   \n",
       "production_companies             Twentieth Century Fox Film Corporation   \n",
       "production_countries                           United States of America   \n",
       "popularity                                                      3.85949   \n",
       "average_vote                                                        6.1   \n",
       "num_votes                                                            34   \n",
       "language                                                             en   \n",
       "imdb_id                                                       tt0114885   \n",
       "poster_url                             /16XOMpEaLWkrcPqSQqhTmeJuqQl.jpg   \n",
       "\n",
       "                                                                      4  \n",
       "id                                                                11862  \n",
       "title                                       Father of the Bride Part II  \n",
       "tagline               Just When His World Is Back To Normal... He's ...  \n",
       "description           Just when George Banks has recovered from his ...  \n",
       "genres                                                           comedy  \n",
       "keywords              baby, midlife crisis, confidence, aging, daugh...  \n",
       "date                                                         1995-02-10  \n",
       "collection                               Father of the Bride Collection  \n",
       "runtime                                                             106  \n",
       "revenue                                                     7.65789e+07  \n",
       "budget                                                                0  \n",
       "director                                                  Charles Shyer  \n",
       "cast                  Steve Martin, Diane Keaton, Martin Short, Kimb...  \n",
       "production_companies         Sandollar Productions, Touchstone Pictures  \n",
       "production_countries                           United States of America  \n",
       "popularity                                                      8.38752  \n",
       "average_vote                                                        5.7  \n",
       "num_votes                                                           173  \n",
       "language                                                             en  \n",
       "imdb_id                                                       tt0113041  \n",
       "poster_url                             /e64sOI48hQXyru7naBFyssKFxVd.jpg  "
      ]
     },
     "execution_count": 9,
     "metadata": {},
     "output_type": "execute_result"
    }
   ],
   "source": [
    "df = pd.read_csv('movies.csv')\n",
    "df.head().transpose()"
   ]
  },
  {
   "cell_type": "code",
   "execution_count": 10,
   "metadata": {},
   "outputs": [
    {
     "data": {
      "text/plain": [
       "Index(['id', 'title', 'tagline', 'description', 'genres', 'keywords', 'date',\n",
       "       'collection', 'runtime', 'revenue', 'budget', 'director', 'cast',\n",
       "       'production_companies', 'production_countries', 'popularity',\n",
       "       'average_vote', 'num_votes', 'language', 'imdb_id', 'poster_url'],\n",
       "      dtype='object')"
      ]
     },
     "execution_count": 10,
     "metadata": {},
     "output_type": "execute_result"
    }
   ],
   "source": [
    "df.columns"
   ]
  },
  {
   "cell_type": "code",
   "execution_count": 11,
   "metadata": {},
   "outputs": [
    {
     "data": {
      "text/plain": [
       "(46628, 21)"
      ]
     },
     "execution_count": 11,
     "metadata": {},
     "output_type": "execute_result"
    }
   ],
   "source": [
    "df.shape"
   ]
  },
  {
   "cell_type": "code",
   "execution_count": 12,
   "metadata": {},
   "outputs": [
    {
     "name": "stdout",
     "output_type": "stream",
     "text": [
      "<class 'pandas.core.frame.DataFrame'>\n",
      "RangeIndex: 46628 entries, 0 to 46627\n",
      "Data columns (total 21 columns):\n",
      " #   Column                Non-Null Count  Dtype  \n",
      "---  ------                --------------  -----  \n",
      " 0   id                    46628 non-null  int64  \n",
      " 1   title                 46624 non-null  object \n",
      " 2   tagline               20783 non-null  object \n",
      " 3   description           45633 non-null  object \n",
      " 4   genres                44104 non-null  object \n",
      " 5   keywords              31739 non-null  object \n",
      " 6   date                  46540 non-null  object \n",
      " 7   collection            4574 non-null   object \n",
      " 8   runtime               46360 non-null  float64\n",
      " 9   revenue               46624 non-null  float64\n",
      " 10  budget                46628 non-null  int64  \n",
      " 11  director              45711 non-null  object \n",
      " 12  cast                  44137 non-null  object \n",
      " 13  production_companies  34346 non-null  object \n",
      " 14  production_countries  40132 non-null  object \n",
      " 15  popularity            46624 non-null  float64\n",
      " 16  average_vote          46624 non-null  float64\n",
      " 17  num_votes             46624 non-null  float64\n",
      " 18  language              46617 non-null  object \n",
      " 19  imdb_id               46611 non-null  object \n",
      " 20  poster_url            46229 non-null  object \n",
      "dtypes: float64(5), int64(2), object(14)\n",
      "memory usage: 7.5+ MB\n"
     ]
    }
   ],
   "source": [
    "df.info()"
   ]
  },
  {
   "cell_type": "code",
   "execution_count": 13,
   "metadata": {},
   "outputs": [
    {
     "data": {
      "text/plain": [
       "(39087, 21)"
      ]
     },
     "execution_count": 13,
     "metadata": {},
     "output_type": "execute_result"
    }
   ],
   "source": [
    "df[df['revenue']==0].shape"
   ]
  },
  {
   "cell_type": "code",
   "execution_count": 14,
   "metadata": {},
   "outputs": [],
   "source": [
    "df['revenue'] = df['revenue'].replace(0, np.nan)"
   ]
  },
  {
   "cell_type": "code",
   "execution_count": 15,
   "metadata": {},
   "outputs": [
    {
     "data": {
      "text/plain": [
       "(37575, 21)"
      ]
     },
     "execution_count": 15,
     "metadata": {},
     "output_type": "execute_result"
    }
   ],
   "source": [
    "df['budget'] = pd.to_numeric(df['budget'], errors='coerce')\n",
    "df['budget'] = df['budget'].replace(0, np.nan)\n",
    "df[df['budget'].isnull()].shape"
   ]
  },
  {
   "cell_type": "code",
   "execution_count": 16,
   "metadata": {},
   "outputs": [
    {
     "data": {
      "text/plain": [
       "(41170, 22)"
      ]
     },
     "execution_count": 16,
     "metadata": {},
     "output_type": "execute_result"
    }
   ],
   "source": [
    "# return is a better indicator of profit or loss\n",
    "df['return'] = df['revenue']/df['budget']\n",
    "df[df['return'].isnull()].shape"
   ]
  },
  {
   "cell_type": "code",
   "execution_count": 18,
   "metadata": {},
   "outputs": [],
   "source": [
    "df['year'] = pd.to_datetime(df['date'], errors='coerce').apply(lambda x: str(x).split('-')[0] if x != np.nan else np.nan)"
   ]
  },
  {
   "cell_type": "code",
   "execution_count": 20,
   "metadata": {},
   "outputs": [],
   "source": [
    "base_poster_url = 'http://image.tmdb.org/t/p/w185/'\n",
    "df['poster_url'] = \"<img src='\" + base_poster_url + df['poster_url'] + \"' style='height:100px;'>\""
   ]
  },
  {
   "cell_type": "code",
   "execution_count": null,
   "metadata": {},
   "outputs": [],
   "source": []
  }
 ],
 "metadata": {
  "kernelspec": {
   "display_name": "Python 3",
   "language": "python",
   "name": "python3"
  },
  "language_info": {
   "codemirror_mode": {
    "name": "ipython",
    "version": 3
   },
   "file_extension": ".py",
   "mimetype": "text/x-python",
   "name": "python",
   "nbconvert_exporter": "python",
   "pygments_lexer": "ipython3",
   "version": "3.7.6"
  }
 },
 "nbformat": 4,
 "nbformat_minor": 4
}
